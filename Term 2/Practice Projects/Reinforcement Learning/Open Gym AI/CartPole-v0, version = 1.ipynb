{
 "cells": [
  {
   "cell_type": "code",
   "execution_count": 1,
   "metadata": {},
   "outputs": [
    {
     "name": "stdout",
     "output_type": "stream",
     "text": [
      "-0.02837771969829929 0.042875861838613166 0.04832027725337411 -0.012611676416141214\n"
     ]
    }
   ],
   "source": [
    "# Importing the environment and other libraries\n",
    "import numpy as np\n",
    "from collections import defaultdict\n",
    "import sys\n",
    "import gym\n",
    "\n",
    "env = gym.make('CartPole-v0')\n",
    "\n",
    "# Following are the state's elements:\n",
    "# Cart position, Cart Velocity, Pole Angle, Pole Velocity at Tip.\n",
    "cart_pos, cart_vel, pole_ang, pole_vel =  env.reset()\n",
    "print(cart_pos, cart_vel, pole_ang, pole_vel)"
   ]
  },
  {
   "cell_type": "code",
   "execution_count": 2,
   "metadata": {},
   "outputs": [],
   "source": [
    "def generate_episode_random(env):\n",
    "    float_formatter = lambda x: \"%.1f\" % x\n",
    "    episode = []\n",
    "    state = env.reset()\n",
    "    while True:\n",
    "        action = env.action_space.sample()\n",
    "        next_state, reward, done, info = env.step(action)\n",
    "        episode.append((tuple([float(float_formatter(i)) for i in state]), action, reward))\n",
    "        state = next_state\n",
    "        if done:\n",
    "            break\n",
    "    return episode\n"
   ]
  },
  {
   "cell_type": "code",
   "execution_count": 3,
   "metadata": {},
   "outputs": [],
   "source": [
    "def generate_episode_epsilon_greedy_policy(env, epsilon, Q):\n",
    "    float_formatter = lambda x: \"%.1f\" % x\n",
    "    episode = []\n",
    "    state = env.reset()\n",
    "    while True:\n",
    "        state = tuple([float_formatter(i) for i in state])\n",
    "        if (Q[state] == Q[state][0]).all():\n",
    "            probs = [0.5]*env.action_space.n\n",
    "        else:\n",
    "            greedy_action_prob = (1-epsilon)+(epsilon/env.action_space.n)\n",
    "            non_greedy_action_prob = (epsilon/env.action_space.n)\n",
    "            probs = np.array([greedy_action_prob if i==Q[state].max() else non_greedy_action_prob for i in Q[state]])\n",
    "        action = np.random.choice(np.arange(env.action_space.n), p=probs)\n",
    "        next_state, reward, done, info = env.step(action)\n",
    "        episode.append((state, action, reward))\n",
    "        state = next_state\n",
    "        if done:\n",
    "            break\n",
    "    return episode"
   ]
  },
  {
   "cell_type": "code",
   "execution_count": 19,
   "metadata": {},
   "outputs": [],
   "source": [
    "def monte_carlo(env, num_episodes, generate_episode, gamma=1.0, eps=None):\n",
    "    # Initialize empty dictionaries of arrays.\n",
    "    returns_sum = defaultdict(lambda: np.zeros(env.action_space.n))\n",
    "    N = defaultdict(lambda: np.zeros(env.action_space.n))\n",
    "    Q = defaultdict(lambda: np.zeros(env.action_space.n))\n",
    "    # Loop over episodes.\n",
    "    for i_episode in range(1, num_episodes+1):\n",
    "        # Monitor progress.\n",
    "        if i_episode % 100 == 0:\n",
    "            print(\"\\rEpisode {}/{}.\".format(i_episode, num_episodes), end=\"\")\n",
    "            sys.stdout.flush()\n",
    "        \n",
    "        epsilon = 1/((i_episode/10)+1)\n",
    "        if eps != None:\n",
    "            epsilon = eps\n",
    "        # Generate an episode.\n",
    "        episode = generate_episode(env, epsilon, Q)\n",
    "        # Get states, actions and rewards from the episode.\n",
    "        states, actions, rewards = zip(*episode)\n",
    "        # Prepare for discounting.\n",
    "        discounts = np.array([gamma**i for i in range(len(rewards)+1)])\n",
    "        # Update the sum of the returns, number of visits, and action-value \n",
    "        # function estimates for each state-action pair in the episode.\n",
    "        for i, state in enumerate(states):\n",
    "            returns_sum[state][actions[i]] += sum(rewards[i:]*discounts[:-(i+1)])\n",
    "            N[state][actions[i]] += 1.0\n",
    "            Q[state][actions[i]] = returns_sum[state][actions[i]]/N[state][actions[i]]\n",
    "    \n",
    "    policy = {k:np.argmax(v) for k, v in Q.items()}\n",
    "    return policy"
   ]
  },
  {
   "cell_type": "code",
   "execution_count": 20,
   "metadata": {},
   "outputs": [
    {
     "name": "stdout",
     "output_type": "stream",
     "text": [
      "Episode 10000/10000."
     ]
    }
   ],
   "source": [
    "optimal_policy = monte_carlo(env, 10000, generate_episode_epsilon_greedy_policy, eps = 0.01)"
   ]
  },
  {
   "cell_type": "code",
   "execution_count": 21,
   "metadata": {},
   "outputs": [],
   "source": [
    "def simulation(env, num_episodes, policy):\n",
    "    float_formatter = lambda x: \"%.1f\" % x\n",
    "    ep_ter = []\n",
    "    ep_rwd = []\n",
    "    for i_episode in range(num_episodes):\n",
    "        state = env.reset()\n",
    "        t = 0\n",
    "        total_reward = 0\n",
    "        while(True):\n",
    "            state = tuple([float_formatter(i) for i in state])\n",
    "            env.render()\n",
    "            if state in policy.keys():\n",
    "                action = policy[state]\n",
    "            else:\n",
    "                action = env.action_space.sample()\n",
    "            state, reward, done, info = env.step(action)\n",
    "            t += 1\n",
    "            total_reward += reward\n",
    "            if done:\n",
    "                print(\"Episode finished after {} timesteps, total reward = {}\".format(t+1, total_reward))\n",
    "                ep_ter.append(t+1)\n",
    "                ep_rwd.append(total_reward)\n",
    "                env.close()\n",
    "                break\n",
    "    print(\"\\n\")\n",
    "    print(\"Number of trials = {}\".format(num_episodes))\n",
    "    print(\"Average episode termination after {} timesteps following the given policy, average reward = {}\".format\n",
    "          (np.mean(ep_ter), np.mean(ep_rwd)))"
   ]
  },
  {
   "cell_type": "code",
   "execution_count": 22,
   "metadata": {},
   "outputs": [
    {
     "name": "stdout",
     "output_type": "stream",
     "text": [
      "Episode finished after 67 timesteps, total reward = 66.0\n",
      "Episode finished after 150 timesteps, total reward = 149.0\n",
      "Episode finished after 113 timesteps, total reward = 112.0\n",
      "Episode finished after 129 timesteps, total reward = 128.0\n",
      "Episode finished after 53 timesteps, total reward = 52.0\n",
      "Episode finished after 114 timesteps, total reward = 113.0\n",
      "Episode finished after 85 timesteps, total reward = 84.0\n",
      "Episode finished after 170 timesteps, total reward = 169.0\n",
      "Episode finished after 121 timesteps, total reward = 120.0\n",
      "Episode finished after 38 timesteps, total reward = 37.0\n",
      "\n",
      "\n",
      "Number of trials = 10\n",
      "Average episode termination after 104.0 timesteps following the given policy, average reward = 103.0\n"
     ]
    }
   ],
   "source": [
    "simulation(env, 10, optimal_policy)"
   ]
  }
 ],
 "metadata": {
  "kernelspec": {
   "display_name": "Python 3",
   "language": "python",
   "name": "python3"
  },
  "language_info": {
   "codemirror_mode": {
    "name": "ipython",
    "version": 3
   },
   "file_extension": ".py",
   "mimetype": "text/x-python",
   "name": "python",
   "nbconvert_exporter": "python",
   "pygments_lexer": "ipython3",
   "version": "3.7.3"
  }
 },
 "nbformat": 4,
 "nbformat_minor": 2
}
