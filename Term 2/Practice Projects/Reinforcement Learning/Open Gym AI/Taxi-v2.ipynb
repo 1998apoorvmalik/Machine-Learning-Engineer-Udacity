{
 "cells": [
  {
   "cell_type": "code",
   "execution_count": 1,
   "metadata": {},
   "outputs": [
    {
     "name": "stdout",
     "output_type": "stream",
     "text": [
      "Discrete(500)\n",
      "Discrete(6)\n"
     ]
    }
   ],
   "source": [
    "import gym\n",
    "import numpy as np\n",
    "import sys\n",
    "from collections import defaultdict\n",
    "\n",
    "env = gym.make(\"Taxi-v2\")\n",
    "print(env.observation_space)\n",
    "print(env.action_space)"
   ]
  },
  {
   "cell_type": "code",
   "execution_count": 2,
   "metadata": {},
   "outputs": [],
   "source": [
    "def epsilon_greedy_policy(epsilon, Q, state):\n",
    "    action_probs = np.ones(env.nA) * (epsilon/env.nA)\n",
    "    action_probs[np.argmax(Q[state])] = 1 - epsilon + (epsilon/env.nA)\n",
    "    action = np.random.choice(np.arange(env.nA), p=action_probs)\n",
    "    \n",
    "    return action, action_probs"
   ]
  },
  {
   "cell_type": "code",
   "execution_count": 3,
   "metadata": {},
   "outputs": [],
   "source": [
    "def expected_sarsa(env, num_episodes, alpha, gamma=1, eps = None):\n",
    "    Q = defaultdict(lambda: np.zeros(env.nA))\n",
    "    for i_episode in range(1, num_episodes+1):\n",
    "        # monitor progress\n",
    "        if i_episode % 100 == 0:\n",
    "            print(\"\\rEpisode {}/{}\".format(i_episode, num_episodes), end=\"\")\n",
    "            sys.stdout.flush()\n",
    "    \n",
    "        epsilon = 1/((i_episode/10)+1)\n",
    "#         epsilon = 1/i_episode\n",
    "        if eps != None:\n",
    "            epsilon = eps\n",
    "        state = env.reset()\n",
    "        while(True):\n",
    "            action, probs = epsilon_greedy_policy(epsilon, Q, state)\n",
    "            next_state, reward, done, info = env.step(action)\n",
    "            Q[state][action] += alpha*(reward + (gamma*np.dot(probs, Q[next_state])) - Q[state][action])\n",
    "            state = next_state\n",
    "            if done:\n",
    "                break\n",
    "    \n",
    "    policy = {k:np.argmax(v) for k, v in Q.items()}\n",
    "    return Q, policy"
   ]
  },
  {
   "cell_type": "code",
   "execution_count": 4,
   "metadata": {},
   "outputs": [],
   "source": [
    "def evaluate_algorithm(algo, env, eps_train, eps_test, alpha, gamma=1, eps = None):\n",
    "    Q, policy = algo(env, eps_train, alpha, gamma, eps)\n",
    "    \n",
    "    return_per_episode = float(0)\n",
    "    total_score = list()\n",
    "    average_score = list()\n",
    "    \n",
    "    state = env.reset()\n",
    "    \n",
    "    for i in range(eps_test):\n",
    "        while(True):\n",
    "            action = policy.get(state, 0)\n",
    "            next_state, reward, done, info = env.step(action)\n",
    "            state = next_state\n",
    "            return_per_episode += reward\n",
    "\n",
    "            if done:\n",
    "                state = env.reset()\n",
    "                total_score.append(return_per_episode)\n",
    "                return_per_episode = 0\n",
    "                break\n",
    "                \n",
    "        if i%100 == 0:\n",
    "            average_score.append(np.mean(total_score))\n",
    "            total_score.clear()\n",
    "    \n",
    "    best_avg_score = np.max(average_score)\n",
    "    \n",
    "    return average_score, best_avg_score"
   ]
  },
  {
   "cell_type": "code",
   "execution_count": 5,
   "metadata": {},
   "outputs": [
    {
     "name": "stdout",
     "output_type": "stream",
     "text": [
      "Episode 50000/50000"
     ]
    }
   ],
   "source": [
    "avg_score, best_avg_score = evaluate_algorithm(expected_sarsa, env, eps_train=50000, \n",
    "                                               eps_test=10000, alpha=0.25, gamma=1)"
   ]
  },
  {
   "cell_type": "code",
   "execution_count": 7,
   "metadata": {},
   "outputs": [
    {
     "name": "stdout",
     "output_type": "stream",
     "text": [
      "9.13\n"
     ]
    }
   ],
   "source": [
    "print(best_avg_score)"
   ]
  },
  {
   "cell_type": "code",
   "execution_count": null,
   "metadata": {},
   "outputs": [],
   "source": []
  }
 ],
 "metadata": {
  "kernelspec": {
   "display_name": "Python 3",
   "language": "python",
   "name": "python3"
  },
  "language_info": {
   "codemirror_mode": {
    "name": "ipython",
    "version": 3
   },
   "file_extension": ".py",
   "mimetype": "text/x-python",
   "name": "python",
   "nbconvert_exporter": "python",
   "pygments_lexer": "ipython3",
   "version": "3.7.3"
  }
 },
 "nbformat": 4,
 "nbformat_minor": 2
}
