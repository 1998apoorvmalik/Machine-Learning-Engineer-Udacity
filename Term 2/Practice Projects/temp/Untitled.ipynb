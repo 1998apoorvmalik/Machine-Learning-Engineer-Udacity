{
 "cells": [
  {
   "cell_type": "code",
   "execution_count": 11,
   "metadata": {},
   "outputs": [
    {
     "name": "stdout",
     "output_type": "stream",
     "text": [
      "-0.029105537378187364 0.032860572248687256 -0.022353455871520246 -0.0439213817646438\n"
     ]
    }
   ],
   "source": [
    "# Importing the environment and other libraries\n",
    "import numpy as np\n",
    "from collections import defaultdict\n",
    "import sys\n",
    "import gym\n",
    "\n",
    "env = gym.make('CartPole-v0')\n",
    "\n",
    "# Following are the state's elements:\n",
    "# Cart position, Cart Velocity, Pole Angle, Pole Velocity at Tip.\n",
    "cart_pos, cart_vel, pole_ang, pole_vel =  env.reset()\n",
    "print(cart_pos, cart_vel, pole_ang, pole_vel)"
   ]
  },
  {
   "cell_type": "code",
   "execution_count": 12,
   "metadata": {},
   "outputs": [],
   "source": [
    "def generate_episode_random(env):\n",
    "    float_formatter = lambda x: \"%.1f\" % x\n",
    "    episode = []\n",
    "    state = env.reset()\n",
    "    while True:\n",
    "        action = env.action_space.sample()\n",
    "        next_state, reward, done, info = env.step(action)\n",
    "        episode.append((tuple([float(float_formatter(i)) for i in state]), action, reward))\n",
    "        state = next_state\n",
    "        if done:\n",
    "            break\n",
    "    return episode\n"
   ]
  },
  {
   "cell_type": "code",
   "execution_count": 13,
   "metadata": {},
   "outputs": [],
   "source": [
    "def action_values(env, num_episodes, generate_episode, gamma=1.0):\n",
    "    # Initialize empty dictionaries of arrays.\n",
    "    returns_sum = defaultdict(lambda: np.zeros(env.action_space.n))\n",
    "    N = defaultdict(lambda: np.zeros(env.action_space.n))\n",
    "    Q = defaultdict(lambda: np.zeros(env.action_space.n))\n",
    "    # Loop over episodes.\n",
    "    for i_episode in range(1, num_episodes+1):\n",
    "        # Monitor progress.\n",
    "        if i_episode % 1000 == 0:\n",
    "            print(\"\\rEpisode {}/{}.\".format(i_episode, num_episodes), end=\"\")\n",
    "            sys.stdout.flush()\n",
    "        \n",
    "        # Generate an episode.\n",
    "        episode = generate_episode(env)\n",
    "        # Get states, actions and rewards from the episode.\n",
    "        states, actions, rewards = zip(*episode)\n",
    "        # Prepare for discounting.\n",
    "        discounts = np.array([gamma**i for i in range(len(rewards)+1)])\n",
    "        # Update the sum of the returns, number of visits, and action-value \n",
    "        # function estimates for each state-action pair in the episode.\n",
    "        for i, state in enumerate(states):\n",
    "            returns_sum[state][actions[i]] += sum(rewards[i:]*discounts[:-(i+1)])\n",
    "            N[state][actions[i]] += 1.0\n",
    "            Q[state][actions[i]] = returns_sum[state][actions[i]]/N[state][actions[i]]\n",
    "    return Q"
   ]
  },
  {
   "cell_type": "code",
   "execution_count": 14,
   "metadata": {},
   "outputs": [],
   "source": [
    "def generate_episode_epsilon_greedy_policy(bj_env, epsilon, Q):\n",
    "    float_formatter = lambda x: \"%.1f\" % x\n",
    "    episode = []\n",
    "    state = bj_env.reset()\n",
    "    while True:\n",
    "        state = tuple([float_formatter(i) for i in state])\n",
    "        if (Q[state] == Q[state][0]).all():\n",
    "            probs = [0.5]*env.action_space.n\n",
    "        else:\n",
    "            greedy_action_prob = (1-epsilon)+(epsilon/env.action_space.n)\n",
    "            non_greedy_action_prob = (epsilon/env.action_space.n)\n",
    "            probs = np.array([greedy_action_prob if i==Q[state].max() else non_greedy_action_prob for i in Q[state]])\n",
    "        action = np.random.choice(np.arange(env.action_space.n), p=probs)\n",
    "        next_state, reward, done, info = bj_env.step(action)\n",
    "        episode.append((state, action, reward))\n",
    "        state = next_state\n",
    "        if done:\n",
    "            break\n",
    "    return episode"
   ]
  },
  {
   "cell_type": "code",
   "execution_count": 15,
   "metadata": {},
   "outputs": [
    {
     "ename": "NameError",
     "evalue": "name 'optimal_policy_evaluation' is not defined",
     "output_type": "error",
     "traceback": [
      "\u001b[0;31m---------------------------------------------------------------------------\u001b[0m",
      "\u001b[0;31mNameError\u001b[0m                                 Traceback (most recent call last)",
      "\u001b[0;32m<ipython-input-15-04ebb5e74b63>\u001b[0m in \u001b[0;36m<module>\u001b[0;34m\u001b[0m\n\u001b[0;32m----> 1\u001b[0;31m \u001b[0moptimal_policy\u001b[0m \u001b[0;34m=\u001b[0m \u001b[0moptimal_policy_evaluation\u001b[0m\u001b[0;34m(\u001b[0m\u001b[0menv\u001b[0m\u001b[0;34m,\u001b[0m \u001b[0;36m100000\u001b[0m\u001b[0;34m,\u001b[0m \u001b[0mgamma\u001b[0m\u001b[0;34m=\u001b[0m\u001b[0;36m1.0\u001b[0m\u001b[0;34m)\u001b[0m\u001b[0;34m\u001b[0m\u001b[0;34m\u001b[0m\u001b[0m\n\u001b[0m",
      "\u001b[0;31mNameError\u001b[0m: name 'optimal_policy_evaluation' is not defined"
     ]
    }
   ],
   "source": [
    "optimal_policy = optimal_policy_evaluation(env, 100000, gamma=1.0)"
   ]
  },
  {
   "cell_type": "code",
   "execution_count": 9,
   "metadata": {},
   "outputs": [],
   "source": [
    "def simulation(env, num_episodes, policy):\n",
    "    float_formatter = lambda x: \"%.1f\" % x\n",
    "    ep_ter = []\n",
    "    ep_rwd = []\n",
    "    for i_episode in range(num_episodes):\n",
    "        state = env.reset()\n",
    "        t = 0\n",
    "        total_reward = 0\n",
    "        while(True):\n",
    "            state = tuple([float_formatter(i) for i in state])\n",
    "            env.render()\n",
    "            if state in policy.keys():\n",
    "                action = policy[state]\n",
    "            else:\n",
    "                action = env.action_space.sample()\n",
    "            state, reward, done, info = env.step(action)\n",
    "            t += 1\n",
    "            total_reward += reward\n",
    "            if done:\n",
    "                print(\"Episode finished after {} timesteps, total reward = {}\".format(t+1, total_reward))\n",
    "                ep_ter.append(t+1)\n",
    "                ep_rwd.append(total_reward)\n",
    "                env.close()\n",
    "                break\n",
    "    print(\"\\n\")\n",
    "    print(\"Number of trials = {}\".format(num_episodes))\n",
    "    print(\"Average episode termination after {} timesteps following the given policy, average reward = {}\".format\n",
    "          (np.mean(ep_ter), np.mean(ep_rwd)))"
   ]
  },
  {
   "cell_type": "code",
   "execution_count": 10,
   "metadata": {},
   "outputs": [
    {
     "ename": "NameError",
     "evalue": "name 'optimal_policy' is not defined",
     "output_type": "error",
     "traceback": [
      "\u001b[0;31m---------------------------------------------------------------------------\u001b[0m",
      "\u001b[0;31mNameError\u001b[0m                                 Traceback (most recent call last)",
      "\u001b[0;32m<ipython-input-10-67c52de27b5e>\u001b[0m in \u001b[0;36m<module>\u001b[0;34m\u001b[0m\n\u001b[0;32m----> 1\u001b[0;31m \u001b[0msimulation\u001b[0m\u001b[0;34m(\u001b[0m\u001b[0menv\u001b[0m\u001b[0;34m,\u001b[0m \u001b[0;36m100\u001b[0m\u001b[0;34m,\u001b[0m \u001b[0moptimal_policy\u001b[0m\u001b[0;34m)\u001b[0m\u001b[0;34m\u001b[0m\u001b[0;34m\u001b[0m\u001b[0m\n\u001b[0m",
      "\u001b[0;31mNameError\u001b[0m: name 'optimal_policy' is not defined"
     ]
    }
   ],
   "source": [
    "simulation(env, 100, optimal_policy)"
   ]
  },
  {
   "cell_type": "code",
   "execution_count": null,
   "metadata": {},
   "outputs": [],
   "source": []
  },
  {
   "cell_type": "code",
   "execution_count": null,
   "metadata": {},
   "outputs": [],
   "source": []
  }
 ],
 "metadata": {
  "kernelspec": {
   "display_name": "Python 3",
   "language": "python",
   "name": "python3"
  },
  "language_info": {
   "codemirror_mode": {
    "name": "ipython",
    "version": 3
   },
   "file_extension": ".py",
   "mimetype": "text/x-python",
   "name": "python",
   "nbconvert_exporter": "python",
   "pygments_lexer": "ipython3",
   "version": "3.7.1"
  }
 },
 "nbformat": 4,
 "nbformat_minor": 2
}
